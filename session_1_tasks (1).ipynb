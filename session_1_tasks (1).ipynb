{
  "cells": [
    {
      "cell_type": "markdown",
      "metadata": {
        "id": "A05OG15VqOPF"
      },
      "source": [
        "# Task : Session 1\n",
        "Solve these questions own your own and try to test yourself what you have learned in the session.\n",
        "\n",
        "Happy Learning!"
      ]
    },
    {
      "cell_type": "markdown",
      "metadata": {
        "id": "2doIXf8bqe9_"
      },
      "source": [
        "### Q1 :- Print the given strings as per stated format.\n",
        "\n",
        "**Given strings**:\n",
        "```\n",
        "\"Data\" \"Science\" \"Mentorship\" \"Program\"\n",
        "\"By\" \"CampusX\"\n",
        "```\n",
        "**Output**:\n",
        "```\n",
        "Data-Science-Mentorship-Program-started-By-CampusX\n",
        "```\n",
        "\n",
        "Concept- [Seperator and End]"
      ]
    },
    {
      "cell_type": "code",
      "execution_count": null,
      "metadata": {
        "id": "-em6d3KErDtp"
      },
      "outputs": [],
      "source": [
        "\n",
        "print(\"Data\",\"Science\",\"Mentorship\",\"Program\",\"Started\",\"By\",\"CampusX\",sep=\"-\")"
      ]
    },
    {
      "cell_type": "markdown",
      "metadata": {
        "id": "1KUpN7ZTrC3_"
      },
      "source": [
        "### Q2:- Write a program that will convert celsius value to fahrenheit."
      ]
    },
    {
      "cell_type": "code",
      "execution_count": null,
      "metadata": {
        "id": "yxKYhYQiqWfj"
      },
      "outputs": [],
      "source": [
        "C=float(input(\"Enter the Celsius:\"))\n",
        "f=(9/5)*C+32\n",
        "print(\"Farhenit is :\",f) "
      ]
    },
    {
      "cell_type": "markdown",
      "metadata": {
        "id": "RLrOBBJurLB2"
      },
      "source": [
        "### Q3:- Take 2 numbers as input from the user.Write a program to swap the numbers without using any special python syntax."
      ]
    },
    {
      "cell_type": "code",
      "execution_count": null,
      "metadata": {
        "id": "yPn7if0TrJ4F"
      },
      "outputs": [],
      "source": [
        "a=int(input(\"Enter the first number: \"))\n",
        "b=int(input(\"Enter the second number: \"))\n",
        "print(f\"Before Swapping\\na:{a},b:{b}\")\n",
        "z=a\n",
        "a=b\n",
        "b=z\n",
        "print(f\"After Swapping\\na:{a},b:{b}\")"
      ]
    },
    {
      "cell_type": "markdown",
      "metadata": {
        "id": "waLCP1bjr7ML"
      },
      "source": [
        "### Q4:- Write a program to find the euclidean distance between two coordinates.Take both the coordinates from the user as input."
      ]
    },
    {
      "cell_type": "markdown",
      "metadata": {},
      "source": [
        "# Formula: d=sqrt((x2-x1)+(y2-y1))"
      ]
    },
    {
      "cell_type": "code",
      "execution_count": null,
      "metadata": {
        "id": "Pl1Sv-xnrxnH"
      },
      "outputs": [],
      "source": [
        "x1=int(input(\"Enter the value: \"))\n",
        "x2=int(input(\"Enter the value: \"))\n",
        "y1=int(input(\"Enter the value: \"))\n",
        "y2=int(input(\"Enter the value: \"))\n",
        "\n",
        "first_coordinate=(x2-x1)*(x2-x1)\n",
        "second_coordinate=(y2-y1)*(y2-y1)\n",
        "\n",
        "distance=(first_coordinate+second_coordinate)**0.5\n",
        "print(distance)"
      ]
    },
    {
      "cell_type": "markdown",
      "metadata": {
        "id": "VLrhg-FRsHjR"
      },
      "source": [
        "### Q5:- Write a program to find the simple interest when the value of principle,rate of interest and time period is provided by the user.\n"
      ]
    },
    {
      "cell_type": "code",
      "execution_count": null,
      "metadata": {
        "id": "s40DlReZsTmY"
      },
      "outputs": [],
      "source": [
        "P=int(input(\"Enter the amount of the Principle: \"))\n",
        "R=int(input(\"Enter the rate of interest: \"))\n",
        "T=int(input(\"Enter the period of time: \"))\n",
        "\n",
        "SI=(P*R*T)/100\n",
        "print(\"Simple Interest = \",SI)"
      ]
    },
    {
      "cell_type": "markdown",
      "metadata": {
        "id": "LMy0BTUktYKa"
      },
      "source": [
        "### Q6:- Write a program that will tell the number of dogs and chicken are there when the user will provide the value of total heads and legs.\n",
        "\n",
        "For example:\n",
        "Input:\n",
        "heads -> 4\n",
        "legs -> 12\n",
        "<br>\n",
        "Output:\n",
        "dogs -> 2\n",
        "chicken -> 2\n",
        "\n",
        "\n",
        "\n"
      ]
    },
    {
      "cell_type": "code",
      "execution_count": null,
      "metadata": {
        "id": "XSBvJoA4tXaG"
      },
      "outputs": [],
      "source": [
        "# Write your code here"
      ]
    },
    {
      "cell_type": "markdown",
      "metadata": {
        "id": "gJ7C5kZYt4BP"
      },
      "source": [
        "### Q7:- Write a program to find the sum of squares of first n natural numbers where n will be provided by the user."
      ]
    },
    {
      "cell_type": "code",
      "execution_count": null,
      "metadata": {
        "id": "_tHsmEHzt2nX"
      },
      "outputs": [],
      "source": [
        "n=int(input(\"Enter the no.\"))\n",
        "sum=0\n",
        "for i in range(n):\n",
        "    sum+=i**2\n",
        "print(sum)"
      ]
    },
    {
      "cell_type": "markdown",
      "metadata": {
        "id": "FHrMM7g-yG1h"
      },
      "source": [
        "### Q8:- Given the first 2 terms of an Arithmetic Series.Find the Nth term of the series. Assume all inputs are provided by the user."
      ]
    },
    {
      "cell_type": "code",
      "execution_count": null,
      "metadata": {
        "id": "go4_kmZmyVSx"
      },
      "outputs": [],
      "source": [
        "# Write your code here\n",
        "\n",
        "a1=int(input(\"Enter the first term: \"))\n",
        "a2=int(input(\"Enter the second term: \"))\n",
        "n=int(input(\"Enter the term number: \"))\n",
        "\n",
        "d=a1-a2\n",
        "\n",
        "an=a1+(n-1)*d\n",
        "\n",
        "print(f\"The {n}th term of the arithmetic series is: {an}\")"
      ]
    },
    {
      "cell_type": "markdown",
      "metadata": {
        "id": "QgyRX_es1oum"
      },
      "source": [
        "### Q9:- Given 2 fractions, find the sum of those 2 fractions.Take the numerator and denominator values of the fractions from the user."
      ]
    },
    {
      "cell_type": "code",
      "execution_count": null,
      "metadata": {
        "id": "X05xqFS1yW16"
      },
      "outputs": [],
      "source": [
        "# Write your code here\n",
        "num1=int(input(\"Enter the numerator: \"))\n",
        "den1=int(input(\"Enter the denominator: \"))\n",
        "num2=int(input(\"Enter the numerator: \"))\n",
        "den2=int(input(\"Enter the denominator: \"))\n",
        "\n",
        "sum_num=(num1*den2)+(num2*den1)\n",
        "sum_den=den1*den2\n",
        "\n",
        "sum=sum_num/sum_den\n",
        "\n",
        "print(sum)"
      ]
    },
    {
      "cell_type": "markdown",
      "metadata": {
        "id": "eaql38ln13u7"
      },
      "source": [
        "### Q10:- Given the height, width and breadth of a milk tank, you have to find out how many glasses of milk can be obtained? Assume all the inputs are provided by the user.\n",
        "\n",
        "\n",
        "\n",
        "Input:<br>\n",
        "Dimensions of the milk tank<br>\n",
        "H = 20cm, L = 20cm, B = 20cm\n",
        "<br><br>\n",
        "Dimensions of the glass<br>\n",
        "h = 3cm, r = 1cm"
      ]
    },
    {
      "cell_type": "code",
      "execution_count": null,
      "metadata": {
        "id": "FePZqno74eWv"
      },
      "outputs": [],
      "source": [
        "# Write your code here\n",
        "\n",
        "tank_h=float(input(\"Enter the height of milk tank: \"))\n",
        "tank_w=float(input(\"Enter the width of milk tank: \"))\n",
        "tank_b=float(input(\"Enter the breadth of milk tank: \"))\n",
        "\n",
        "glass_h=float(input(\"Enter the height of glass: \"))\n",
        "glass_r=float(input(\"Enter the radius of glass: \"))\n",
        "\n",
        "volume_tank=tank_h*tank_w*tank_b\n",
        "\n",
        "pi=3.14\n",
        "volume_glass=pi*(glass_r**2)+glass_h\n",
        "\n",
        "no_of_glass=int(volume_tank//volume_glass)"
      ]
    }
  ],
  "metadata": {
    "colab": {
      "provenance": []
    },
    "kernelspec": {
      "display_name": "Python 3",
      "name": "python3"
    },
    "language_info": {
      "name": "python"
    }
  },
  "nbformat": 4,
  "nbformat_minor": 0
}
